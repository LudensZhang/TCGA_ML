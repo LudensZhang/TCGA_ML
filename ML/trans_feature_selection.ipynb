{
 "cells": [
  {
   "cell_type": "code",
   "execution_count": 5,
   "metadata": {},
   "outputs": [],
   "source": [
    "import pandas as pd \n",
    "import numpy as np\n",
    "import re\n",
    "from sklearn.ensemble import RandomForestClassifier"
   ]
  },
  {
   "cell_type": "markdown",
   "metadata": {},
   "source": [
    "导入数据, 预处理"
   ]
  },
  {
   "cell_type": "code",
   "execution_count": 2,
   "metadata": {},
   "outputs": [],
   "source": [
    "def StageNormalize(stage):\n",
    "    stage = str(stage)\n",
    "    if re.search('Stage IV', stage):\n",
    "        return 3\n",
    "    elif re.search('Stage III', stage):\n",
    "        return 2\n",
    "    elif re.search('Stage II', stage):\n",
    "        return 1\n",
    "    elif re.search('Stage I', stage):\n",
    "        return 0\n",
    "    else:\n",
    "        return np.nan\n"
   ]
  },
  {
   "cell_type": "code",
   "execution_count": 25,
   "metadata": {},
   "outputs": [],
   "source": [
    "metadata = pd.read_csv('../COAD/metadata.csv', index_col = 2)['pathologic_stage_label']\n",
    "trans_data  = pd.read_csv('../COAD/transcriptome/trancriptome.csv')"
   ]
  },
  {
   "cell_type": "code",
   "execution_count": 28,
   "metadata": {},
   "outputs": [
    {
     "data": {
      "text/plain": [
       "True"
      ]
     },
     "execution_count": 28,
     "metadata": {},
     "output_type": "execute_result"
    }
   ],
   "source": [
    "y = metadata.apply(StageNormalize).dropna()\n",
    "X = trans_data.set_index('id').drop('Unnamed: 0', axis = 1).loc[labels.index]"
   ]
  },
  {
   "cell_type": "markdown",
   "metadata": {},
   "source": [
    "构建RF"
   ]
  },
  {
   "cell_type": "code",
   "execution_count": 29,
   "metadata": {},
   "outputs": [
    {
     "data": {
      "text/plain": [
       "RandomForestClassifier()"
      ]
     },
     "execution_count": 29,
     "metadata": {},
     "output_type": "execute_result"
    }
   ],
   "source": [
    "clf = RandomForestClassifier()\n",
    "clf.fit(X, y)"
   ]
  },
  {
   "cell_type": "markdown",
   "metadata": {},
   "source": [
    "选取前500的特征"
   ]
  },
  {
   "cell_type": "code",
   "execution_count": 54,
   "metadata": {},
   "outputs": [],
   "source": [
    "feature_importance = list(zip(X.columns.tolist(), clf.feature_importances_))\n",
    "feature_importance.sort(key = lambda x: x[1], reverse = True)\n",
    "selected_feature = np.array(feature_impo)[0:500, 0]"
   ]
  },
  {
   "cell_type": "code",
   "execution_count": 58,
   "metadata": {},
   "outputs": [],
   "source": [
    "X[selected_feature].to_csv('selected_transcriptome.csv')"
   ]
  }
 ],
 "metadata": {
  "interpreter": {
   "hash": "f5ab1f5b08c8200419b110eb512495f583fbed7d7bee71d89917a7b15b30d15a"
  },
  "kernelspec": {
   "display_name": "Python 3.9.7 ('torch_gpu')",
   "language": "python",
   "name": "python3"
  },
  "language_info": {
   "codemirror_mode": {
    "name": "ipython",
    "version": 3
   },
   "file_extension": ".py",
   "mimetype": "text/x-python",
   "name": "python",
   "nbconvert_exporter": "python",
   "pygments_lexer": "ipython3",
   "version": "3.8.8"
  },
  "orig_nbformat": 4
 },
 "nbformat": 4,
 "nbformat_minor": 2
}
