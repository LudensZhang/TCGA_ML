{
 "cells": [
  {
   "cell_type": "code",
   "execution_count": null,
   "id": "28c6b31d",
   "metadata": {},
   "outputs": [],
   "source": [
    "import pandas as pd\n",
    "import numpy as np\n",
    "import re\n",
    "\n",
    "import torch\n",
    "import torch.nn as nn \n",
    "from torch.utils.data import DataLoader, TensorDataset, random_split\n",
    "import torch.optim as optim"
   ]
  },
  {
   "cell_type": "markdown",
   "id": "75c393fd",
   "metadata": {},
   "source": [
    "查看设备"
   ]
  },
  {
   "cell_type": "code",
   "execution_count": 2,
   "id": "64ebc986",
   "metadata": {},
   "outputs": [
    {
     "name": "stdout",
     "output_type": "stream",
     "text": [
      "The model will be running on cuda:0 device\n"
     ]
    }
   ],
   "source": [
    "device = torch.device(\"cuda:0\" if torch.cuda.is_available() else \"cpu\") \n",
    "print(f'The model will be running on {device} device')"
   ]
  },
  {
   "cell_type": "markdown",
   "id": "3db2be43",
   "metadata": {},
   "source": [
    "定义一个NN类"
   ]
  },
  {
   "cell_type": "code",
   "execution_count": 3,
   "id": "30ed72c2",
   "metadata": {},
   "outputs": [],
   "source": [
    "class Net(nn.Module):\n",
    "    def __init__(self, feature_count, class_count):\n",
    "        super (Net, self).__init__()\n",
    "        \n",
    "        self.hidden_layers = nn.Sequential(nn.Linear(feature_count, 100000),\n",
    "                                            nn.ReLU(True),\n",
    "                                            nn.Linear(100000, 500000),\n",
    "                                            nn.ReLU(True),\n",
    "                                            nn.Linear(500000, 500000),\n",
    "                                            nn.ReLU(True),\n",
    "                                            nn.Linear(500000, 100000),\n",
    "                                            nn.ReLU(True),\n",
    "                                            nn.Linear(100000, class_count),\n",
    "                                            nn.Softmax(True))\n",
    "        \n",
    "    def forward(self, x):\n",
    "        outputs = self.hidden_layers(x)\n",
    "        return outputs"
   ]
  },
  {
   "cell_type": "markdown",
   "id": "5ec97042",
   "metadata": {},
   "source": [
    "定义训练函数"
   ]
  },
  {
   "cell_type": "code",
   "execution_count": 4,
   "id": "e7d385b6",
   "metadata": {},
   "outputs": [],
   "source": [
    "def train(whole_train_set):\n",
    "    whole_train_set = np.array(whole_train_set).astype(np.float32)\n",
    "    train_set, valid_set = random_split(whole_train_set, [400, 100])\n",
    "    train_loader = DataLoader(train_set, batch_size = 50, shuffle = True)\n",
    "    valid_loader = DataLoader(valid_set, batch_size = 50, shuffle = True)\n",
    "    \n",
    "    model = Net(whole_train_set.shape[1], 4)\n",
    "    model.to(device)\n",
    "    criterion = torch.nn.CrossEntropyLoss()\n",
    "    optimizer = optim.Adam(model.parameters(), lr=1e-5)\n",
    "    best_accuracy = 0\n",
    "    \n",
    "    for epoch in range(500):\n",
    "        running_train_loss = 0.0  \n",
    "        running_val_loss = 0.0\n",
    "        correct, total = 0, 0 \n",
    "        for i, data in enumerate(train_loader, 0):\n",
    "            X = data[0].to(device)\n",
    "            y = data[1].to(device)\n",
    "            optimizer.zero_grad()\n",
    "            \n",
    "            outputs = model(X)  \n",
    "            loss = criterion(outputs, y)\n",
    "            loss.backward()\n",
    "            optimizer.step()\n",
    "            running_train_loss += loss\n",
    "        \n",
    "        train_loss = running_train_loss/len(train_loader)\n",
    "        \n",
    "        with torch.no_grad():\n",
    "            model.eval()\n",
    "            \n",
    "            for i, data in enumerate(valid_loader, 0):\n",
    "                X = data[0].to(device)\n",
    "                y = data[1].to(device)\n",
    "            \n",
    "                outputs = model(X)\n",
    "                loss = criterion(outputs, y)\n",
    "                _, y_pred = torch.max(outputs, dim = 0)\n",
    "                running_val_loss += loss\n",
    "                total += outputs.size(0)\n",
    "                correct += (y == y_pred).sum().item()\n",
    "            \n",
    "        val_loss = running_val_loss/len(valid_loader)\n",
    "        \n",
    "        accuracy = 100*correct/total\n",
    "        \n",
    "        if accuracy > best_accuracy:\n",
    "            torch.save(model.state_dict(), 'best_model.pth')\n",
    "            print('The model has been saved for the best accuracy %d %%'%(accuracy))\n",
    "            best_accuracy = accuracy\n",
    "        \n",
    "        if (epoch+1)%100 == 0:\n",
    "            print('Completed training epoch', epoch, 'Training Loss is: %.4f' %train_loss, 'Validation Loss is: %.4f' %val_loss, 'Accuracy is %d %%' % (accuracy))\n",
    "        "
   ]
  },
  {
   "cell_type": "markdown",
   "id": "61cfebb7",
   "metadata": {},
   "source": [
    "导入数据"
   ]
  },
  {
   "cell_type": "code",
   "execution_count": 5,
   "id": "4d0e58de",
   "metadata": {},
   "outputs": [],
   "source": [
    "metadata = pd.read_csv('../COAD/metadata.csv', index_col = 2)[['disease_type', \n",
    "                                                                'sample_type', \n",
    "                                                                'pathologic_stage_label']]\n",
    "trans_data  = pd.read_csv('../COAD/transcriptome/trancriptome.csv')"
   ]
  },
  {
   "cell_type": "markdown",
   "id": "ef307c6d",
   "metadata": {},
   "source": [
    "数据预处理"
   ]
  },
  {
   "cell_type": "code",
   "execution_count": null,
   "id": "a341314e",
   "metadata": {},
   "outputs": [],
   "source": [
    "def StageNormalize(stage):\n",
    "    stage = str(stage)\n",
    "    if re.search('Stage IV', stage):\n",
    "        return 3\n",
    "    elif re.search('Stage III', stage):\n",
    "        return 2\n",
    "    elif re.search('Stage II', stage):\n",
    "        return 1\n",
    "    elif re.search('Stage I', stage):\n",
    "        return 0\n",
    "    else:\n",
    "        return np.nan\n",
    "\n",
    "metadata['pathologic_stage_label'] = metadata['pathologic_stage_label'].apply(StageNormalize)"
   ]
  },
  {
   "cell_type": "code",
   "execution_count": null,
   "id": "da0272e6",
   "metadata": {},
   "outputs": [
    {
     "data": {
      "text/html": [
       "<div>\n",
       "<style scoped>\n",
       "    .dataframe tbody tr th:only-of-type {\n",
       "        vertical-align: middle;\n",
       "    }\n",
       "\n",
       "    .dataframe tbody tr th {\n",
       "        vertical-align: top;\n",
       "    }\n",
       "\n",
       "    .dataframe thead th {\n",
       "        text-align: right;\n",
       "    }\n",
       "</style>\n",
       "<table border=\"1\" class=\"dataframe\">\n",
       "  <thead>\n",
       "    <tr style=\"text-align: right;\">\n",
       "      <th></th>\n",
       "      <th>disease_type</th>\n",
       "      <th>sample_type</th>\n",
       "      <th>pathologic_stage_label</th>\n",
       "    </tr>\n",
       "    <tr>\n",
       "      <th>transcriptom_id</th>\n",
       "      <th></th>\n",
       "      <th></th>\n",
       "      <th></th>\n",
       "    </tr>\n",
       "  </thead>\n",
       "  <tbody>\n",
       "    <tr>\n",
       "      <th>TCGA-AA-3841-01A</th>\n",
       "      <td>Colon Adenocarcinoma</td>\n",
       "      <td>Primary Tumor</td>\n",
       "      <td>1.0</td>\n",
       "    </tr>\n",
       "    <tr>\n",
       "      <th>TCGA-D5-6924-01A</th>\n",
       "      <td>Colon Adenocarcinoma</td>\n",
       "      <td>Primary Tumor</td>\n",
       "      <td>1.0</td>\n",
       "    </tr>\n",
       "    <tr>\n",
       "      <th>TCGA-AA-3861-01A</th>\n",
       "      <td>Colon Adenocarcinoma</td>\n",
       "      <td>Primary Tumor</td>\n",
       "      <td>1.0</td>\n",
       "    </tr>\n",
       "    <tr>\n",
       "      <th>TCGA-AA-3510-01A</th>\n",
       "      <td>Colon Adenocarcinoma</td>\n",
       "      <td>Primary Tumor</td>\n",
       "      <td>1.0</td>\n",
       "    </tr>\n",
       "    <tr>\n",
       "      <th>TCGA-AA-A024-01A</th>\n",
       "      <td>Colon Adenocarcinoma</td>\n",
       "      <td>Primary Tumor</td>\n",
       "      <td>1.0</td>\n",
       "    </tr>\n",
       "  </tbody>\n",
       "</table>\n",
       "</div>"
      ],
      "text/plain": [
       "                          disease_type    sample_type  pathologic_stage_label\n",
       "transcriptom_id                                                              \n",
       "TCGA-AA-3841-01A  Colon Adenocarcinoma  Primary Tumor                     1.0\n",
       "TCGA-D5-6924-01A  Colon Adenocarcinoma  Primary Tumor                     1.0\n",
       "TCGA-AA-3861-01A  Colon Adenocarcinoma  Primary Tumor                     1.0\n",
       "TCGA-AA-3510-01A  Colon Adenocarcinoma  Primary Tumor                     1.0\n",
       "TCGA-AA-A024-01A  Colon Adenocarcinoma  Primary Tumor                     1.0"
      ]
     },
     "execution_count": 7,
     "metadata": {},
     "output_type": "execute_result"
    }
   ],
   "source": [
    "metadata.head()\n"
   ]
  },
  {
   "cell_type": "code",
   "execution_count": null,
   "id": "7dd28375",
   "metadata": {},
   "outputs": [],
   "source": [
    "trans_data = trans_data.set_index('id').drop('Unnamed: 0', axis = 1)\n",
    "metadata.dropna(subset = ['pathologic_stage_label'], inplace = True)"
   ]
  },
  {
   "cell_type": "code",
   "execution_count": null,
   "id": "849ae1b2",
   "metadata": {},
   "outputs": [],
   "source": [
    "processed_data  = trans_data.loc[metadata.index]\n",
    "labels = metadata['pathologic_stage_label']\n",
    "\n",
    "processed_data = np.array(processed_data).astype(np.float32)\n",
    "labels = np.array(labels).astype(np.int0)\n",
    "\n",
    "whole_train_set, whole_valid_set = random_split(processed_data, [500, 25])"
   ]
  },
  {
   "cell_type": "markdown",
   "id": "5369926f",
   "metadata": {},
   "source": [
    "训练"
   ]
  },
  {
   "cell_type": "code",
   "execution_count": null,
   "id": "d311c858",
   "metadata": {},
   "outputs": [
    {
     "ename": "RuntimeError",
     "evalue": "[enforce fail at ..\\c10\\core\\CPUAllocator.cpp:76] data. DefaultCPUAllocator: not enough memory: you tried to allocate 22640800000 bytes.",
     "output_type": "error",
     "traceback": [
      "\u001b[1;31m---------------------------------------------------------------------------\u001b[0m",
      "\u001b[1;31mRuntimeError\u001b[0m                              Traceback (most recent call last)",
      "\u001b[1;32m~\\AppData\\Local\\Temp/ipykernel_23788/3943669741.py\u001b[0m in \u001b[0;36m<module>\u001b[1;34m\u001b[0m\n\u001b[1;32m----> 1\u001b[1;33m \u001b[0mtrain\u001b[0m\u001b[1;33m(\u001b[0m\u001b[0mwhole_train_set\u001b[0m\u001b[1;33m)\u001b[0m\u001b[1;33m\u001b[0m\u001b[1;33m\u001b[0m\u001b[0m\n\u001b[0m",
      "\u001b[1;32m~\\AppData\\Local\\Temp/ipykernel_23788/3331881998.py\u001b[0m in \u001b[0;36mtrain\u001b[1;34m(whole_train_set)\u001b[0m\n\u001b[0;32m      5\u001b[0m     \u001b[0mvalid_loader\u001b[0m \u001b[1;33m=\u001b[0m \u001b[0mDataLoader\u001b[0m\u001b[1;33m(\u001b[0m\u001b[0mvalid_set\u001b[0m\u001b[1;33m,\u001b[0m \u001b[0mbatch_size\u001b[0m \u001b[1;33m=\u001b[0m \u001b[1;36m50\u001b[0m\u001b[1;33m,\u001b[0m \u001b[0mshuffle\u001b[0m \u001b[1;33m=\u001b[0m \u001b[1;32mTrue\u001b[0m\u001b[1;33m)\u001b[0m\u001b[1;33m\u001b[0m\u001b[1;33m\u001b[0m\u001b[0m\n\u001b[0;32m      6\u001b[0m \u001b[1;33m\u001b[0m\u001b[0m\n\u001b[1;32m----> 7\u001b[1;33m     \u001b[0mmodel\u001b[0m \u001b[1;33m=\u001b[0m \u001b[0mNet\u001b[0m\u001b[1;33m(\u001b[0m\u001b[0mwhole_train_set\u001b[0m\u001b[1;33m.\u001b[0m\u001b[0mshape\u001b[0m\u001b[1;33m[\u001b[0m\u001b[1;36m1\u001b[0m\u001b[1;33m]\u001b[0m\u001b[1;33m,\u001b[0m \u001b[1;36m4\u001b[0m\u001b[1;33m)\u001b[0m\u001b[1;33m\u001b[0m\u001b[1;33m\u001b[0m\u001b[0m\n\u001b[0m\u001b[0;32m      8\u001b[0m     \u001b[0mmodel\u001b[0m\u001b[1;33m.\u001b[0m\u001b[0mto\u001b[0m\u001b[1;33m(\u001b[0m\u001b[0mdevice\u001b[0m\u001b[1;33m)\u001b[0m\u001b[1;33m\u001b[0m\u001b[1;33m\u001b[0m\u001b[0m\n\u001b[0;32m      9\u001b[0m     \u001b[0mcriterion\u001b[0m \u001b[1;33m=\u001b[0m \u001b[0mtorch\u001b[0m\u001b[1;33m.\u001b[0m\u001b[0mnn\u001b[0m\u001b[1;33m.\u001b[0m\u001b[0mCrossEntropyLoss\u001b[0m\u001b[1;33m(\u001b[0m\u001b[1;33m)\u001b[0m\u001b[1;33m\u001b[0m\u001b[1;33m\u001b[0m\u001b[0m\n",
      "\u001b[1;32m~\\AppData\\Local\\Temp/ipykernel_23788/4179230035.py\u001b[0m in \u001b[0;36m__init__\u001b[1;34m(self, feature_count, class_count)\u001b[0m\n\u001b[0;32m      3\u001b[0m         \u001b[0msuper\u001b[0m \u001b[1;33m(\u001b[0m\u001b[0mNet\u001b[0m\u001b[1;33m,\u001b[0m \u001b[0mself\u001b[0m\u001b[1;33m)\u001b[0m\u001b[1;33m.\u001b[0m\u001b[0m__init__\u001b[0m\u001b[1;33m(\u001b[0m\u001b[1;33m)\u001b[0m\u001b[1;33m\u001b[0m\u001b[1;33m\u001b[0m\u001b[0m\n\u001b[0;32m      4\u001b[0m \u001b[1;33m\u001b[0m\u001b[0m\n\u001b[1;32m----> 5\u001b[1;33m         self.hidden_layers = nn.Sequential(nn.Linear(feature_count, 100000),\n\u001b[0m\u001b[0;32m      6\u001b[0m                                             \u001b[0mnn\u001b[0m\u001b[1;33m.\u001b[0m\u001b[0mReLU\u001b[0m\u001b[1;33m(\u001b[0m\u001b[1;32mTrue\u001b[0m\u001b[1;33m)\u001b[0m\u001b[1;33m,\u001b[0m\u001b[1;33m\u001b[0m\u001b[1;33m\u001b[0m\u001b[0m\n\u001b[0;32m      7\u001b[0m                                             \u001b[0mnn\u001b[0m\u001b[1;33m.\u001b[0m\u001b[0mLinear\u001b[0m\u001b[1;33m(\u001b[0m\u001b[1;36m100000\u001b[0m\u001b[1;33m,\u001b[0m \u001b[1;36m500000\u001b[0m\u001b[1;33m)\u001b[0m\u001b[1;33m,\u001b[0m\u001b[1;33m\u001b[0m\u001b[1;33m\u001b[0m\u001b[0m\n",
      "\u001b[1;32mD:\\anaconda3\\envs\\torch_gpu\\lib\\site-packages\\torch\\nn\\modules\\linear.py\u001b[0m in \u001b[0;36m__init__\u001b[1;34m(self, in_features, out_features, bias, device, dtype)\u001b[0m\n\u001b[0;32m     83\u001b[0m         \u001b[0mself\u001b[0m\u001b[1;33m.\u001b[0m\u001b[0min_features\u001b[0m \u001b[1;33m=\u001b[0m \u001b[0min_features\u001b[0m\u001b[1;33m\u001b[0m\u001b[1;33m\u001b[0m\u001b[0m\n\u001b[0;32m     84\u001b[0m         \u001b[0mself\u001b[0m\u001b[1;33m.\u001b[0m\u001b[0mout_features\u001b[0m \u001b[1;33m=\u001b[0m \u001b[0mout_features\u001b[0m\u001b[1;33m\u001b[0m\u001b[1;33m\u001b[0m\u001b[0m\n\u001b[1;32m---> 85\u001b[1;33m         \u001b[0mself\u001b[0m\u001b[1;33m.\u001b[0m\u001b[0mweight\u001b[0m \u001b[1;33m=\u001b[0m \u001b[0mParameter\u001b[0m\u001b[1;33m(\u001b[0m\u001b[0mtorch\u001b[0m\u001b[1;33m.\u001b[0m\u001b[0mempty\u001b[0m\u001b[1;33m(\u001b[0m\u001b[1;33m(\u001b[0m\u001b[0mout_features\u001b[0m\u001b[1;33m,\u001b[0m \u001b[0min_features\u001b[0m\u001b[1;33m)\u001b[0m\u001b[1;33m,\u001b[0m \u001b[1;33m**\u001b[0m\u001b[0mfactory_kwargs\u001b[0m\u001b[1;33m)\u001b[0m\u001b[1;33m)\u001b[0m\u001b[1;33m\u001b[0m\u001b[1;33m\u001b[0m\u001b[0m\n\u001b[0m\u001b[0;32m     86\u001b[0m         \u001b[1;32mif\u001b[0m \u001b[0mbias\u001b[0m\u001b[1;33m:\u001b[0m\u001b[1;33m\u001b[0m\u001b[1;33m\u001b[0m\u001b[0m\n\u001b[0;32m     87\u001b[0m             \u001b[0mself\u001b[0m\u001b[1;33m.\u001b[0m\u001b[0mbias\u001b[0m \u001b[1;33m=\u001b[0m \u001b[0mParameter\u001b[0m\u001b[1;33m(\u001b[0m\u001b[0mtorch\u001b[0m\u001b[1;33m.\u001b[0m\u001b[0mempty\u001b[0m\u001b[1;33m(\u001b[0m\u001b[0mout_features\u001b[0m\u001b[1;33m,\u001b[0m \u001b[1;33m**\u001b[0m\u001b[0mfactory_kwargs\u001b[0m\u001b[1;33m)\u001b[0m\u001b[1;33m)\u001b[0m\u001b[1;33m\u001b[0m\u001b[1;33m\u001b[0m\u001b[0m\n",
      "\u001b[1;31mRuntimeError\u001b[0m: [enforce fail at ..\\c10\\core\\CPUAllocator.cpp:76] data. DefaultCPUAllocator: not enough memory: you tried to allocate 22640800000 bytes."
     ]
    }
   ],
   "source": [
    "train(whole_train_set)"
   ]
  },
  {
   "cell_type": "markdown",
   "id": "373a9615",
   "metadata": {},
   "source": []
  },
  {
   "cell_type": "code",
   "execution_count": null,
   "id": "d114a1a7",
   "metadata": {},
   "outputs": [],
   "source": []
  }
 ],
 "metadata": {
  "interpreter": {
   "hash": "cba455981152ac3392ff4135c02b5b977f84f41280d0b3586aaa56380a6cadc9"
  },
  "kernelspec": {
   "display_name": "torch_gpu",
   "language": "python",
   "name": "python3"
  },
  "language_info": {
   "codemirror_mode": {
    "name": "ipython",
    "version": 3
   },
   "file_extension": ".py",
   "mimetype": "text/x-python",
   "name": "python",
   "nbconvert_exporter": "python",
   "pygments_lexer": "ipython3",
   "version": "3.9.7"
  }
 },
 "nbformat": 4,
 "nbformat_minor": 5
}
